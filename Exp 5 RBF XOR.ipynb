{
 "cells": [
  {
   "cell_type": "markdown",
   "id": "3a01f52f",
   "metadata": {},
   "source": [
    "# XOR using RBF"
   ]
  },
  {
   "cell_type": "code",
   "execution_count": 1,
   "id": "e69e6acd",
   "metadata": {},
   "outputs": [],
   "source": [
    "import numpy as np\n",
    "from math import exp"
   ]
  },
  {
   "cell_type": "code",
   "execution_count": 2,
   "id": "473ccb2c",
   "metadata": {},
   "outputs": [],
   "source": [
    "# XOR INPUTS\n",
    "inputs = np.array([[0,0],[0,1],[1,0],[1,1]])\n",
    "# CORRESPONDING XOR OUTPUTS\n",
    "expected_output = np.array([[0],[1],[1],[0]])"
   ]
  },
  {
   "cell_type": "code",
   "execution_count": 3,
   "id": "9a0d38e4",
   "metadata": {},
   "outputs": [],
   "source": [
    "# CENTRES FOR THE RBF\n",
    "centres=np.array([[0,1],[1,0]])\n",
    "theta1=[]\n",
    "theta2=[]"
   ]
  },
  {
   "cell_type": "code",
   "execution_count": 4,
   "id": "5caaa5ec",
   "metadata": {},
   "outputs": [],
   "source": [
    "# CALCULATING SQUARE DIFFERENCE B/W I/P AND CENTRE\n",
    "for i in range(0,4):\n",
    "    d1=((inputs[i][0]-centres[0][0])**2+(inputs[i][1]-centres[0][1])**2)\n",
    "    d2=((inputs[i][0]-centres[1][0])**2+(inputs[i][1]-centres[1][1])**2)\n",
    "    theta1.append(d1)\n",
    "    theta2.append(d2)"
   ]
  },
  {
   "cell_type": "code",
   "execution_count": 15,
   "id": "9634eb97",
   "metadata": {},
   "outputs": [
    {
     "name": "stdout",
     "output_type": "stream",
     "text": [
      "SQUARE DIFFERENCE B/W I/P AND CENTRE\n",
      "[1, 0, 2, 1]\n",
      "[1, 2, 0, 1]\n"
     ]
    }
   ],
   "source": [
    "print(\"SQUARE DIFFERENCE B/W I/P AND CENTRE\")\n",
    "print(theta1)\n",
    "print(theta2)"
   ]
  },
  {
   "cell_type": "code",
   "execution_count": 12,
   "id": "abac54ac",
   "metadata": {},
   "outputs": [],
   "source": [
    "# GAUSSIAN \n",
    "gaussian=np.array([[exp(theta1[0]),exp(theta2[0]),1], \n",
    "                   [exp(theta1[1]),exp(theta2[1]),1], \n",
    "                   [exp(theta1[2]),exp(theta2[2]),1], \n",
    "                   [exp(theta1[3]),exp(theta2[3]),1]])"
   ]
  },
  {
   "cell_type": "code",
   "execution_count": 17,
   "id": "c46b412f",
   "metadata": {},
   "outputs": [
    {
     "name": "stdout",
     "output_type": "stream",
     "text": [
      "GAUSSIAN:\n",
      " [[2.71828183 2.71828183 1.        ]\n",
      " [1.         7.3890561  1.        ]\n",
      " [7.3890561  1.         1.        ]\n",
      " [2.71828183 2.71828183 1.        ]]\n",
      "\n",
      "GAUSSIAN TRANSPOSE\n",
      " [[2.71828183 1.         7.3890561  2.71828183]\n",
      " [2.71828183 7.3890561  1.         2.71828183]\n",
      " [1.         1.         1.         1.        ]]\n"
     ]
    }
   ],
   "source": [
    "print(\"GAUSSIAN:\\n\",gaussian)\n",
    "print()\n",
    "print(\"GAUSSIAN TRANSPOSE\\n\",gaussian.T)"
   ]
  },
  {
   "cell_type": "code",
   "execution_count": 13,
   "id": "14ba9f68",
   "metadata": {},
   "outputs": [
    {
     "name": "stdout",
     "output_type": "stream",
     "text": [
      "WEIGHTS:\n",
      " [[ 0.33869689]\n",
      " [ 0.33869689]\n",
      " [-1.84134719]]\n"
     ]
    }
   ],
   "source": [
    "# MINIMUM NORM SOLUTION\n",
    "g=(np.linalg.inv((gaussian.T).dot(gaussian)))\n",
    "g1=(g.dot(gaussian.T))\n",
    "weights=g1.dot(expected_output)\n",
    "print(\"WEIGHTS:\\n\",weights)"
   ]
  },
  {
   "cell_type": "code",
   "execution_count": 10,
   "id": "01612443",
   "metadata": {},
   "outputs": [],
   "source": [
    "# OUTPUT CALCULATION USING PREDICTED WEIGHTS\n",
    "prediction=[]\n",
    "for i in range(0,4):\n",
    "    output=weights[0]*exp(theta1[i])+weights[1]*exp(theta2[i])+weights[2]\n",
    "    output=np.around(output,2)\n",
    "    prediction.append(output)"
   ]
  },
  {
   "cell_type": "code",
   "execution_count": 11,
   "id": "35912d4f",
   "metadata": {},
   "outputs": [
    {
     "name": "stdout",
     "output_type": "stream",
     "text": [
      "PREDICTED OUTPUT\n",
      " [[0.]\n",
      " [1.]\n",
      " [1.]\n",
      " [0.]]\n",
      "EXPECTED OUTPUT\n",
      " [[0]\n",
      " [1]\n",
      " [1]\n",
      " [0]]\n"
     ]
    }
   ],
   "source": [
    "print(\"PREDICTED OUTPUT\\n\",np.array(prediction))\n",
    "print(\"EXPECTED OUTPUT\\n\",expected_output)"
   ]
  },
  {
   "cell_type": "code",
   "execution_count": null,
   "id": "8660cbb8",
   "metadata": {},
   "outputs": [],
   "source": []
  }
 ],
 "metadata": {
  "kernelspec": {
   "display_name": "Python 3",
   "language": "python",
   "name": "python3"
  },
  "language_info": {
   "codemirror_mode": {
    "name": "ipython",
    "version": 3
   },
   "file_extension": ".py",
   "mimetype": "text/x-python",
   "name": "python",
   "nbconvert_exporter": "python",
   "pygments_lexer": "ipython3",
   "version": "3.8.8"
  }
 },
 "nbformat": 4,
 "nbformat_minor": 5
}
