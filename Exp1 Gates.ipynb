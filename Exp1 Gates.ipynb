{
 "cells": [
  {
   "cell_type": "markdown",
   "id": "1d362c84",
   "metadata": {},
   "source": [
    "Shubhasmita Roy\n",
    "# Exp1: Logic gates using MP neuron model"
   ]
  },
  {
   "cell_type": "markdown",
   "id": "3d329c58",
   "metadata": {},
   "source": [
    "#### AND gate implementation"
   ]
  },
  {
   "cell_type": "code",
   "execution_count": 1,
   "id": "9e69369d",
   "metadata": {},
   "outputs": [],
   "source": [
    "def ANDgate(x,y):\n",
    "    w1= 1\n",
    "    w2= 1\n",
    "    if w1*x + w2*y>=2:\n",
    "        print(\"Y = 1\")\n",
    "    else:\n",
    "        print(\"Y = 0\")"
   ]
  },
  {
   "cell_type": "markdown",
   "id": "5d395294",
   "metadata": {},
   "source": [
    "#### OR gate implementation"
   ]
  },
  {
   "cell_type": "code",
   "execution_count": 2,
   "id": "a5dec7d6",
   "metadata": {},
   "outputs": [],
   "source": [
    "def ORgate(x,y):\n",
    "    w1= 1\n",
    "    w2= 1\n",
    "    if w1*x + w2*y>=1:\n",
    "        print(\"Y = 1\")\n",
    "    else:\n",
    "        print(\"Y = 0\")"
   ]
  },
  {
   "cell_type": "markdown",
   "id": "9f6fc75a",
   "metadata": {},
   "source": [
    "#### NOT gate implementation"
   ]
  },
  {
   "cell_type": "code",
   "execution_count": 3,
   "id": "72351439",
   "metadata": {},
   "outputs": [],
   "source": [
    "def NOTgate(x):\n",
    "    w1= -1\n",
    "    if w1*x >= 0:\n",
    "        print(\"Y = 1\")\n",
    "    else:\n",
    "        print(\"Y = 0\")"
   ]
  },
  {
   "cell_type": "markdown",
   "id": "6736976d",
   "metadata": {},
   "source": [
    "#### NOR gate implementation"
   ]
  },
  {
   "cell_type": "code",
   "execution_count": 4,
   "id": "f01d6c79",
   "metadata": {},
   "outputs": [],
   "source": [
    "def NORgate(x,y):\n",
    "    w1= 1\n",
    "    w2= 1\n",
    "    if w1*x + w2*y < 1:\n",
    "        print(\"Y = 1\")\n",
    "    else:\n",
    "        print(\"Y = 0\")"
   ]
  },
  {
   "cell_type": "markdown",
   "id": "c84deec7",
   "metadata": {},
   "source": [
    "#### NAND gate implementation"
   ]
  },
  {
   "cell_type": "code",
   "execution_count": 5,
   "id": "1b674307",
   "metadata": {},
   "outputs": [],
   "source": [
    "def NANDgate(x,y):\n",
    "    w1= 1\n",
    "    w2= 1\n",
    "    if w1*x + w2*y < 2:\n",
    "        print(\"Y = 1\")\n",
    "    else:\n",
    "        print(\"Y = 0\")"
   ]
  },
  {
   "cell_type": "markdown",
   "id": "a65fd41f",
   "metadata": {},
   "source": [
    "#### XOR gate implementation"
   ]
  },
  {
   "cell_type": "code",
   "execution_count": 6,
   "id": "579fb4fb",
   "metadata": {},
   "outputs": [],
   "source": [
    "def XORgate(x,y):\n",
    "    w1= 2\n",
    "    w2= -1\n",
    "    z1= w1*x + w2*y\n",
    "    z2= w2*y + w1*x\n",
    "    w3= 2\n",
    "    if w3*z1+w3*z2 >= 1:\n",
    "        print(\"Y = 1\")\n",
    "    else:\n",
    "        print(\"Y = 0\")"
   ]
  },
  {
   "cell_type": "markdown",
   "id": "4206302d",
   "metadata": {},
   "source": [
    "#### GAME implementation\n",
    "Should I watch the football game on TV?"
   ]
  },
  {
   "cell_type": "code",
   "execution_count": 7,
   "id": "9a24950b",
   "metadata": {},
   "outputs": [],
   "source": [
    "def GAME(p,q,r,s):\n",
    "    w1=1\n",
    "    w2=-1\n",
    "    z1=w2*p+w2*q+w1*r+w1*s\n",
    "    z2=w2*p+w1*q+w1*r+w1*s\n",
    "    z3=w1*p+w2*q+w1*r+w2*s\n",
    "    z4=w1*p+w2*q+w1*r+w1*s\n",
    "    z5=w1*p+w1*q+w1*r+w2*s\n",
    "    z6=w1*p+w1*q+w1*r+w1*s\n",
    "    y1=0\n",
    "    y2=0\n",
    "    y3=0\n",
    "    y4=0\n",
    "    y5=0\n",
    "    y6=0\n",
    "    if z1>=2:\n",
    "        y1=1\n",
    "    if z2>=3:\n",
    "        y2=1\n",
    "    if z3>=2:\n",
    "        y3=1\n",
    "    if z4>=3:\n",
    "        y4=1\n",
    "    if z5>=3:\n",
    "        y5=1\n",
    "    if z6>=4:\n",
    "        y6=1\n",
    "    Y=y1+y2+y3+y4+y5+y6\n",
    "    if Y>=1:\n",
    "        print('Yes')\n",
    "    else:\n",
    "        print('No')"
   ]
  },
  {
   "cell_type": "markdown",
   "id": "7919b393",
   "metadata": {},
   "source": [
    "#### Execution of code"
   ]
  },
  {
   "cell_type": "code",
   "execution_count": 8,
   "id": "fd6a2101",
   "metadata": {},
   "outputs": [
    {
     "name": "stdout",
     "output_type": "stream",
     "text": [
      "Choose 1 of the following\n",
      "1.AND 2.OR 3.NOT 4.NAND 5.NOR 6.XOR 7.GAME\n",
      "1\n",
      "Enter X = 1\n",
      "Enter Y = 1\n",
      "Y = 1\n",
      "Do you want to continue? yes\n",
      "Choose 1 of the following\n",
      "1.AND 2.OR 3.NOT 4.NAND 5.NOR 6.XOR 7.GAME\n",
      "2\n",
      "Enter X = 0\n",
      "Enter Y = 1\n",
      "Y = 1\n",
      "Do you want to continue? yes\n",
      "Choose 1 of the following\n",
      "1.AND 2.OR 3.NOT 4.NAND 5.NOR 6.XOR 7.GAME\n",
      "3\n",
      "Enter X = 0\n",
      "Y = 1\n",
      "Do you want to continue? yes\n",
      "Choose 1 of the following\n",
      "1.AND 2.OR 3.NOT 4.NAND 5.NOR 6.XOR 7.GAME\n",
      "4\n",
      "Enter X = 1\n",
      "Enter Y = 1\n",
      "Y = 0\n",
      "Do you want to continue? yes\n",
      "Choose 1 of the following\n",
      "1.AND 2.OR 3.NOT 4.NAND 5.NOR 6.XOR 7.GAME\n",
      "5\n",
      "Enter X = 0\n",
      "Enter Y = 0\n",
      "Y = 1\n",
      "Do you want to continue? yes\n",
      "Choose 1 of the following\n",
      "1.AND 2.OR 3.NOT 4.NAND 5.NOR 6.XOR 7.GAME\n",
      "6\n",
      "Enter X = 1\n",
      "Enter Y = 1\n",
      "Y = 1\n",
      "Do you want to continue? yes\n",
      "Choose 1 of the following\n",
      "1.AND 2.OR 3.NOT 4.NAND 5.NOR 6.XOR 7.GAME\n",
      "7\n",
      "Enter 1 for yes and 0 for no\n",
      "Is Premier League on? 0\n",
      "Is it a friendly game? 0\n",
      "Are you at home? 1\n",
      "Is Manchester United playing? 1\n",
      "Should I watch the football game on TV? : Yes\n",
      "Do you want to continue? no\n",
      "Thank you for playing!\n"
     ]
    }
   ],
   "source": [
    "t='yes'\n",
    "while t!='no':\n",
    "    option = int(input(\"Choose 1 of the following\\n1.AND 2.OR 3.NOT 4.NAND 5.NOR 6.XOR 7.GAME\\n\"))\n",
    "    if option == 1:\n",
    "        a=int(input(\"Enter X = \"))\n",
    "        b=int(input(\"Enter Y = \"))\n",
    "        if (a==1 or a==0) and (b==0 or b==1):\n",
    "            ANDgate(a,b)\n",
    "        else:\n",
    "            print(\"Enter binary inputs only\")\n",
    "    elif option == 2:\n",
    "        a=int(input(\"Enter X = \"))\n",
    "        b=int(input(\"Enter Y = \"))\n",
    "        if (a==1 or a==0) and (b==0 or b==1):\n",
    "            ORgate(a,b)\n",
    "        else:\n",
    "            print(\"Enter binary inputs only\")\n",
    "    elif option == 3:\n",
    "        a=int(input(\"Enter X = \"))\n",
    "        if (a==1 or a==0):\n",
    "            NOTgate(a)\n",
    "        else:\n",
    "            print(\"Enter binary inputs only\")\n",
    "    elif option == 4:\n",
    "        a=int(input(\"Enter X = \"))\n",
    "        b=int(input(\"Enter Y = \"))\n",
    "        if (a==1 or a==0) and (b==0 or b==1):\n",
    "            NANDgate(a,b)\n",
    "        else:\n",
    "            print(\"Enter binary inputs only\")\n",
    "    elif option == 5:\n",
    "        a=int(input(\"Enter X = \"))\n",
    "        b=int(input(\"Enter Y = \"))\n",
    "        if (a==1 or a==0) and (b==0 or b==1):\n",
    "            NORgate(a,b)\n",
    "        else:\n",
    "            print(\"Enter binary inputs only\")\n",
    "    elif option == 6:\n",
    "        a=int(input(\"Enter X = \"))\n",
    "        b=int(input(\"Enter Y = \"))\n",
    "        if (a==1 or a==0) and (b==0 or b==1):\n",
    "            XORgate(a,b)\n",
    "        else:\n",
    "            print(\"Enter binary inputs only\")\n",
    "    elif option == 7: \n",
    "        print(\"Enter 1 for yes and 0 for no\")\n",
    "        a=int(input(\"Is Premier League on? \"))\n",
    "        b=int(input(\"Is it a friendly game? \"))\n",
    "        c=int(input(\"Are you at home? \"))\n",
    "        d=int(input(\"Is Manchester United playing? \"))\n",
    "        if (a==1 or a==0) and (b==0 or b==1) and (c==1 or c==0) and (d==0 or d==1):\n",
    "            print(\"Should I watch the football game on TV? :\", end=\" \")\n",
    "            GAME(a,b,c,d)\n",
    "        else:\n",
    "            print(\"Enter binary inputs only\")\n",
    "    else:\n",
    "        print('invalid option')\n",
    "    t=input(\"Do you want to continue? \")\n",
    "print(\"Thank you for playing!\")"
   ]
  },
  {
   "cell_type": "code",
   "execution_count": null,
   "id": "8b223b77",
   "metadata": {},
   "outputs": [],
   "source": []
  }
 ],
 "metadata": {
  "kernelspec": {
   "display_name": "Python 3",
   "language": "python",
   "name": "python3"
  },
  "language_info": {
   "codemirror_mode": {
    "name": "ipython",
    "version": 3
   },
   "file_extension": ".py",
   "mimetype": "text/x-python",
   "name": "python",
   "nbconvert_exporter": "python",
   "pygments_lexer": "ipython3",
   "version": "3.8.8"
  }
 },
 "nbformat": 4,
 "nbformat_minor": 5
}
