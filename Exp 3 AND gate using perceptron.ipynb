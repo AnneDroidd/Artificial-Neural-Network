{
 "cells": [
  {
   "cell_type": "markdown",
   "id": "b587b0d3",
   "metadata": {},
   "source": [
    "Shubhasmita Roy"
   ]
  },
  {
   "cell_type": "markdown",
   "id": "2eb0ada0",
   "metadata": {},
   "source": [
    "# Exp 3 : Implementation of AND gate using Perceptron learning rule"
   ]
  },
  {
   "cell_type": "markdown",
   "id": "8da7b252",
   "metadata": {},
   "source": [
    "### AND gate Implementation"
   ]
  },
  {
   "cell_type": "code",
   "execution_count": 8,
   "id": "2304121d",
   "metadata": {},
   "outputs": [],
   "source": [
    "import numpy as np\n",
    "from matplotlib import pyplot as plt\n",
    "%matplotlib inline\n",
    "er=[]"
   ]
  },
  {
   "cell_type": "code",
   "execution_count": 9,
   "id": "e7f6ba81",
   "metadata": {},
   "outputs": [],
   "source": [
    "class Perceptron:\n",
    "    def __init__(self, input_size, lr=1, epochs=100):\n",
    "        self.W= np.zeros(input_size+1)\n",
    "        # add for bias\n",
    "        self.epochs = epochs\n",
    "        self.lr = lr\n",
    "    \n",
    "    def activation(self, x):\n",
    "        return 1 if x>=0 else 0\n",
    "    \n",
    "    def predict(self, x):\n",
    "        z=self.W.T.dot(x)\n",
    "        a = self.activation(z)\n",
    "        return a\n",
    "    \n",
    "    def fit(self, X, d):\n",
    "        for _ in range(self.epochs):\n",
    "            for i in range(d.shape[0]):\n",
    "                x = np.insert(X[i], 0, 1)\n",
    "                y = self.predict(x)\n",
    "                e=d[i]-y\n",
    "                self.W=self.W+self.lr*e*x\n",
    "                er.append(e)"
   ]
  },
  {
   "cell_type": "code",
   "execution_count": 37,
   "id": "dff30ace",
   "metadata": {},
   "outputs": [
    {
     "name": "stdout",
     "output_type": "stream",
     "text": [
      "[-3.  2.  1.]\n",
      "Enter x: 1\n",
      "Enter y: 1\n",
      "Output for AND : 1\n",
      "Do you want to continue? yes\n",
      "Enter x: 0\n",
      "Enter y: 0\n",
      "Output for AND : 0\n",
      "Do you want to continue? yes\n",
      "Enter x: 1\n",
      "Enter y: 0\n",
      "Output for AND : 0\n",
      "Do you want to continue? no\n"
     ]
    }
   ],
   "source": [
    "if __name__ == '__main__':\n",
    "    X=np.array([[0,0],[0,1],[1,0],[1,1]])\n",
    "    d=np.array([0,0,0,1])\n",
    "    \n",
    "    perceptron = Perceptron(input_size=2)\n",
    "    perceptron.fit(X,d)\n",
    "    print(perceptron.W)\n",
    "    \n",
    "    ans=\"yes\"\n",
    "    while ans==\"yes\":\n",
    "        x=int(input(\"Enter x: \"))\n",
    "        y=int(input(\"Enter y: \"))\n",
    "        Testdata=[1,x,y]\n",
    "        Test0=perceptron.W.dot(Testdata)\n",
    "        Testout = perceptron.activation(Test0)\n",
    "        print(\"Output for AND :\",Testout)\n",
    "        ans=input(\"Do you want to continue? \")"
   ]
  },
  {
   "cell_type": "code",
   "execution_count": 38,
   "id": "27648aee",
   "metadata": {},
   "outputs": [
    {
     "data": {
      "text/plain": [
       "array([[0, 0],\n",
       "       [0, 1],\n",
       "       [1, 0],\n",
       "       [1, 1]])"
      ]
     },
     "execution_count": 38,
     "metadata": {},
     "output_type": "execute_result"
    }
   ],
   "source": [
    "X"
   ]
  },
  {
   "cell_type": "code",
   "execution_count": 39,
   "id": "5663a680",
   "metadata": {},
   "outputs": [
    {
     "data": {
      "text/plain": [
       "array([0, 0, 0, 1])"
      ]
     },
     "execution_count": 39,
     "metadata": {},
     "output_type": "execute_result"
    }
   ],
   "source": [
    "d"
   ]
  },
  {
   "cell_type": "markdown",
   "id": "f95dcb4b",
   "metadata": {},
   "source": [
    "#### Squared error"
   ]
  },
  {
   "cell_type": "code",
   "execution_count": 42,
   "id": "ec24822a",
   "metadata": {
    "scrolled": false
   },
   "outputs": [
    {
     "data": {
      "image/png": "[encoded data removed]",
      "text/plain": [
       "<Figure size 432x288 with 1 Axes>"
      ]
     },
     "metadata": {
      "needs_background": "light"
     },
     "output_type": "display_data"
    }
   ],
   "source": [
    "plt.plot(er)\n",
    "plt.title('Perceptron error')\n",
    "plt.xlabel('Ierations')\n",
    "plt.ylabel('Errors')\n",
    "plt.show()"
   ]
  },
  {
   "cell_type": "markdown",
   "id": "d7c80c7d",
   "metadata": {},
   "source": [
    "### OR gate Implementation"
   ]
  },
  {
   "cell_type": "code",
   "execution_count": 6,
   "id": "6f169ac0",
   "metadata": {},
   "outputs": [
    {
     "name": "stdout",
     "output_type": "stream",
     "text": [
      "[-1.  1.  1.]\n",
      "Enter x: 0\n",
      "Enter y: 1\n",
      "Output for OR : 1\n",
      "Do you want to continue? yes\n",
      "Enter x: 1\n",
      "Enter y: 1\n",
      "Output for OR : 1\n",
      "Do you want to continue? yes\n",
      "Enter x: 0\n",
      "Enter y: 0\n",
      "Output for OR : 0\n",
      "Do you want to continue? no\n"
     ]
    }
   ],
   "source": [
    "if __name__ == '__main__':\n",
    "    X=np.array([[0,0],[0,1],[1,0],[1,1]])\n",
    "    d=np.array([0,1,1,1])\n",
    "    \n",
    "    perceptron = Perceptron(input_size=2)\n",
    "    perceptron.fit(X,d)\n",
    "    print(perceptron.W)\n",
    "    \n",
    "    ans=\"yes\"\n",
    "    while ans==\"yes\":\n",
    "        x=int(input(\"Enter x: \"))\n",
    "        y=int(input(\"Enter y: \"))\n",
    "        Testdata=[1,x,y]\n",
    "        Test0=perceptron.W.dot(Testdata)\n",
    "        Testout = perceptron.activation(Test0)\n",
    "        print(\"Output for OR :\",Testout)\n",
    "        ans=input(\"Do you want to continue? \")"
   ]
  },
  {
   "cell_type": "markdown",
   "id": "e62dc867",
   "metadata": {},
   "source": [
    "#### Error Decresing"
   ]
  },
  {
   "cell_type": "code",
   "execution_count": 43,
   "id": "41670a42",
   "metadata": {},
   "outputs": [
    {
     "data": {
      "image/png": "[encoded data removed]",
      "text/plain": [
       "<Figure size 432x288 with 1 Axes>"
      ]
     },
     "metadata": {
      "needs_background": "light"
     },
     "output_type": "display_data"
    }
   ],
   "source": [
    "plt.plot(er)\n",
    "plt.title('Perceptron error')\n",
    "plt.xlabel('Ierations')\n",
    "plt.ylabel('Errors')\n",
    "plt.show()"
   ]
  },
  {
   "cell_type": "markdown",
   "id": "6a11eeff",
   "metadata": {},
   "source": [
    "### IRIS flower classification"
   ]
  },
  {
   "cell_type": "code",
   "execution_count": 1,
   "id": "490531f0",
   "metadata": {},
   "outputs": [],
   "source": [
    "import pandas as pd\n",
    "from sklearn.datasets import load_iris\n",
    "iris=load_iris()"
   ]
  },
  {
   "cell_type": "code",
   "execution_count": 2,
   "id": "1de47b69",
   "metadata": {},
   "outputs": [
    {
     "data": {
      "text/plain": [
       "['DESCR',\n",
       " 'data',\n",
       " 'feature_names',\n",
       " 'filename',\n",
       " 'frame',\n",
       " 'target',\n",
       " 'target_names']"
      ]
     },
     "execution_count": 2,
     "metadata": {},
     "output_type": "execute_result"
    }
   ],
   "source": [
    "dir(iris)"
   ]
  },
  {
   "cell_type": "code",
   "execution_count": 3,
   "id": "b421ec14",
   "metadata": {},
   "outputs": [
    {
     "data": {
      "text/plain": [
       "array(['setosa', 'versicolor', 'virginica'], dtype='<U10')"
      ]
     },
     "execution_count": 3,
     "metadata": {},
     "output_type": "execute_result"
    }
   ],
   "source": [
    "iris.target_names"
   ]
  },
  {
   "cell_type": "markdown",
   "id": "94d85ddf",
   "metadata": {},
   "source": [
    "#### Creating appropriate dataset"
   ]
  },
  {
   "cell_type": "code",
   "execution_count": 4,
   "id": "d1f59c92",
   "metadata": {},
   "outputs": [],
   "source": [
    "df = pd.DataFrame(iris.data,columns=iris.feature_names)\n",
    "df['target']=iris.target\n",
    "df1=df[df.target==1] #versicolor\n",
    "df2=df[df.target==0] #setosa"
   ]
  },
  {
   "cell_type": "code",
   "execution_count": 5,
   "id": "0ebb3a1c",
   "metadata": {},
   "outputs": [
    {
     "data": {
      "text/html": [
       "<div>\n",
       "<style scoped>\n",
       "    .dataframe tbody tr th:only-of-type {\n",
       "        vertical-align: middle;\n",
       "    }\n",
       "\n",
       "    .dataframe tbody tr th {\n",
       "        vertical-align: top;\n",
       "    }\n",
       "\n",
       "    .dataframe thead th {\n",
       "        text-align: right;\n",
       "    }\n",
       "</style>\n",
       "<table border=\"1\" class=\"dataframe\">\n",
       "  <thead>\n",
       "    <tr style=\"text-align: right;\">\n",
       "      <th></th>\n",
       "      <th>sepal length (cm)</th>\n",
       "      <th>sepal width (cm)</th>\n",
       "      <th>petal length (cm)</th>\n",
       "      <th>petal width (cm)</th>\n",
       "      <th>target</th>\n",
       "    </tr>\n",
       "  </thead>\n",
       "  <tbody>\n",
       "    <tr>\n",
       "      <th>0</th>\n",
       "      <td>5.1</td>\n",
       "      <td>3.5</td>\n",
       "      <td>1.4</td>\n",
       "      <td>0.2</td>\n",
       "      <td>0</td>\n",
       "    </tr>\n",
       "    <tr>\n",
       "      <th>1</th>\n",
       "      <td>4.9</td>\n",
       "      <td>3.0</td>\n",
       "      <td>1.4</td>\n",
       "      <td>0.2</td>\n",
       "      <td>0</td>\n",
       "    </tr>\n",
       "    <tr>\n",
       "      <th>2</th>\n",
       "      <td>4.7</td>\n",
       "      <td>3.2</td>\n",
       "      <td>1.3</td>\n",
       "      <td>0.2</td>\n",
       "      <td>0</td>\n",
       "    </tr>\n",
       "    <tr>\n",
       "      <th>3</th>\n",
       "      <td>4.6</td>\n",
       "      <td>3.1</td>\n",
       "      <td>1.5</td>\n",
       "      <td>0.2</td>\n",
       "      <td>0</td>\n",
       "    </tr>\n",
       "    <tr>\n",
       "      <th>4</th>\n",
       "      <td>5.0</td>\n",
       "      <td>3.6</td>\n",
       "      <td>1.4</td>\n",
       "      <td>0.2</td>\n",
       "      <td>0</td>\n",
       "    </tr>\n",
       "  </tbody>\n",
       "</table>\n",
       "</div>"
      ],
      "text/plain": [
       "   sepal length (cm)  sepal width (cm)  petal length (cm)  petal width (cm)  \\\n",
       "0                5.1               3.5                1.4               0.2   \n",
       "1                4.9               3.0                1.4               0.2   \n",
       "2                4.7               3.2                1.3               0.2   \n",
       "3                4.6               3.1                1.5               0.2   \n",
       "4                5.0               3.6                1.4               0.2   \n",
       "\n",
       "   target  \n",
       "0       0  \n",
       "1       0  \n",
       "2       0  \n",
       "3       0  \n",
       "4       0  "
      ]
     },
     "execution_count": 5,
     "metadata": {},
     "output_type": "execute_result"
    }
   ],
   "source": [
    "#setosa's head\n",
    "df2.head()"
   ]
  },
  {
   "cell_type": "code",
   "execution_count": 6,
   "id": "87672eb3",
   "metadata": {},
   "outputs": [
    {
     "data": {
      "text/html": [
       "<div>\n",
       "<style scoped>\n",
       "    .dataframe tbody tr th:only-of-type {\n",
       "        vertical-align: middle;\n",
       "    }\n",
       "\n",
       "    .dataframe tbody tr th {\n",
       "        vertical-align: top;\n",
       "    }\n",
       "\n",
       "    .dataframe thead th {\n",
       "        text-align: right;\n",
       "    }\n",
       "</style>\n",
       "<table border=\"1\" class=\"dataframe\">\n",
       "  <thead>\n",
       "    <tr style=\"text-align: right;\">\n",
       "      <th></th>\n",
       "      <th>sepal length (cm)</th>\n",
       "      <th>sepal width (cm)</th>\n",
       "      <th>petal length (cm)</th>\n",
       "      <th>petal width (cm)</th>\n",
       "      <th>target</th>\n",
       "    </tr>\n",
       "  </thead>\n",
       "  <tbody>\n",
       "    <tr>\n",
       "      <th>50</th>\n",
       "      <td>7.0</td>\n",
       "      <td>3.2</td>\n",
       "      <td>4.7</td>\n",
       "      <td>1.4</td>\n",
       "      <td>1</td>\n",
       "    </tr>\n",
       "    <tr>\n",
       "      <th>51</th>\n",
       "      <td>6.4</td>\n",
       "      <td>3.2</td>\n",
       "      <td>4.5</td>\n",
       "      <td>1.5</td>\n",
       "      <td>1</td>\n",
       "    </tr>\n",
       "    <tr>\n",
       "      <th>52</th>\n",
       "      <td>6.9</td>\n",
       "      <td>3.1</td>\n",
       "      <td>4.9</td>\n",
       "      <td>1.5</td>\n",
       "      <td>1</td>\n",
       "    </tr>\n",
       "    <tr>\n",
       "      <th>53</th>\n",
       "      <td>5.5</td>\n",
       "      <td>2.3</td>\n",
       "      <td>4.0</td>\n",
       "      <td>1.3</td>\n",
       "      <td>1</td>\n",
       "    </tr>\n",
       "    <tr>\n",
       "      <th>54</th>\n",
       "      <td>6.5</td>\n",
       "      <td>2.8</td>\n",
       "      <td>4.6</td>\n",
       "      <td>1.5</td>\n",
       "      <td>1</td>\n",
       "    </tr>\n",
       "  </tbody>\n",
       "</table>\n",
       "</div>"
      ],
      "text/plain": [
       "    sepal length (cm)  sepal width (cm)  petal length (cm)  petal width (cm)  \\\n",
       "50                7.0               3.2                4.7               1.4   \n",
       "51                6.4               3.2                4.5               1.5   \n",
       "52                6.9               3.1                4.9               1.5   \n",
       "53                5.5               2.3                4.0               1.3   \n",
       "54                6.5               2.8                4.6               1.5   \n",
       "\n",
       "    target  \n",
       "50       1  \n",
       "51       1  \n",
       "52       1  \n",
       "53       1  \n",
       "54       1  "
      ]
     },
     "execution_count": 6,
     "metadata": {},
     "output_type": "execute_result"
    }
   ],
   "source": [
    "# versicolor's head\n",
    "df1.head()"
   ]
  },
  {
   "cell_type": "code",
   "execution_count": 10,
   "id": "a5a49a40",
   "metadata": {},
   "outputs": [
    {
     "data": {
      "text/plain": [
       "<matplotlib.collections.PathCollection at 0x27462e90fa0>"
      ]
     },
     "execution_count": 10,
     "metadata": {},
     "output_type": "execute_result"
    },
    {
     "data": {
      "image/png": "[encoded data removed]",
      "text/plain": [
       "<Figure size 432x288 with 1 Axes>"
      ]
     },
     "metadata": {
      "needs_background": "light"
     },
     "output_type": "display_data"
    }
   ],
   "source": [
    "plt.xlabel('sepal length (cm)')\n",
    "plt.ylabel('sepal width (cm)')\n",
    "plt.scatter(df1['sepal length (cm)'], df1['petal length (cm)'], color=\"red\")\n",
    "plt.scatter(df2['sepal length (cm)'], df2['petal length (cm)'], color=\"blue\")"
   ]
  },
  {
   "cell_type": "code",
   "execution_count": 11,
   "id": "fa078d2f",
   "metadata": {
    "scrolled": true
   },
   "outputs": [],
   "source": [
    "# creating an array\n",
    "X1=df2[['sepal length (cm)','petal length (cm)']].append(df1[['sepal length (cm)','petal length (cm)']], ignore_index=True)\n",
    "X=X1.to_numpy()\n",
    "d1=df2.target.append(df1.target, ignore_index=True)\n",
    "d=d1.to_numpy()"
   ]
  },
  {
   "cell_type": "code",
   "execution_count": 12,
   "id": "e537725c",
   "metadata": {},
   "outputs": [
    {
     "name": "stdout",
     "output_type": "stream",
     "text": [
      "[-2.  -3.4  9.1]\n",
      "Enter x: 7.0\n",
      "Enter y: 4.7\n",
      "Output for OR : 1\n",
      "Do you want to continue? yes\n",
      "Enter x: 5.1\n",
      "Enter y: 1.4\n",
      "Output for OR : 0\n",
      "Do you want to continue? no\n"
     ]
    }
   ],
   "source": [
    "if __name__ == '__main__':\n",
    "    #X=np.array([[0,0],[0,1],[1,0],[1,1]])\n",
    "    #d=np.array([0,1,1,1])\n",
    "    X1=df2[['sepal length (cm)','petal length (cm)']].append(df1[['sepal length (cm)','petal length (cm)']], ignore_index=True)\n",
    "    X=X1.to_numpy()\n",
    "    d1=df2.target.append(df1.target, ignore_index=True)\n",
    "    d=d1.to_numpy()\n",
    "    \n",
    "    perceptron = Perceptron(input_size=2)\n",
    "    perceptron.fit(X,d)\n",
    "    print(perceptron.W)\n",
    "    \n",
    "    ans=\"yes\"\n",
    "    while ans==\"yes\":\n",
    "        x=float(input(\"Enter x: \"))\n",
    "        y=float(input(\"Enter y: \"))\n",
    "        Testdata=[1,x,y]\n",
    "        Test0=perceptron.W.dot(Testdata)\n",
    "        Testout = perceptron.activation(Test0)\n",
    "        print(\"Output for OR :\",Testout)\n",
    "        ans=input(\"Do you want to continue? \")"
   ]
  },
  {
   "cell_type": "markdown",
   "id": "2cbc645e",
   "metadata": {},
   "source": [
    "#### Squared error"
   ]
  },
  {
   "cell_type": "code",
   "execution_count": 44,
   "id": "b2c3739d",
   "metadata": {},
   "outputs": [
    {
     "data": {
      "image/png": "[encoded data removed]",
      "text/plain": [
       "<Figure size 432x288 with 1 Axes>"
      ]
     },
     "metadata": {
      "needs_background": "light"
     },
     "output_type": "display_data"
    }
   ],
   "source": [
    "plt.plot(er)\n",
    "plt.title('Perceptron error')\n",
    "plt.xlabel('Ierations')\n",
    "plt.ylabel('Errors')\n",
    "plt.show()"
   ]
  },
  {
   "cell_type": "code",
   "execution_count": null,
   "id": "393851f3",
   "metadata": {},
   "outputs": [],
   "source": []
  }
 ],
 "metadata": {
  "kernelspec": {
   "display_name": "Python 3",
   "language": "python",
   "name": "python3"
  },
  "language_info": {
   "codemirror_mode": {
    "name": "ipython",
    "version": 3
   },
   "file_extension": ".py",
   "mimetype": "text/x-python",
   "name": "python",
   "nbconvert_exporter": "python",
   "pygments_lexer": "ipython3",
   "version": "3.8.8"
  }
 },
 "nbformat": 4,
 "nbformat_minor": 5
}
