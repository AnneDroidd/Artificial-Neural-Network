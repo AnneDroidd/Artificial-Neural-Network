{
 "cells": [
  {
   "cell_type": "markdown",
   "id": "e8536143",
   "metadata": {},
   "source": [
    "# Exp 6: SOM "
   ]
  },
  {
   "cell_type": "code",
   "execution_count": 1,
   "id": "79c414e0",
   "metadata": {},
   "outputs": [],
   "source": [
    "import math"
   ]
  },
  {
   "cell_type": "code",
   "execution_count": 2,
   "id": "c7a5e34d",
   "metadata": {},
   "outputs": [],
   "source": [
    "class SOM :\n",
    "    # Function here computes the winning vector\n",
    "    # by Euclidean distance\n",
    "    def winner( self, weights, sample ):\n",
    "        D0 = 0\n",
    "        D1 = 0\n",
    "        for i in range( len( sample ) ) :\n",
    "            D0 = D0 + math.pow( ( sample[i] - weights[0][i] ), 2 )\n",
    "            D1 = D1 + math.pow( ( sample[i] - weights[1][i] ), 2 )\n",
    "        print(\"Euclidean distance from W1 = \",D0)\n",
    "        print(\"Euclidean distance from W2 = \",D1)\n",
    "        if D0 < D1 :\n",
    "            return 0\n",
    "        else :\n",
    "            return 1\n",
    "\n",
    "    # Function here updates the winning vector\n",
    "    def update( self, weights, sample, J, alpha ) :\n",
    "        for i in range(0,4):\n",
    "            weights[J][i] = weights[J][i] + alpha * ( sample[i] - weights[J][i] )\n",
    "        print(\"Updated Weights =\",weights,\"\\n\")\n",
    "        return weights"
   ]
  },
  {
   "cell_type": "code",
   "execution_count": 3,
   "id": "5e2fd1a9",
   "metadata": {},
   "outputs": [],
   "source": [
    "# Driver code\n",
    "def main() :\n",
    "    # Training Examples ( m, n )\n",
    "    T = [ [ 1, 1, 0, 0 ], [ 0, 0, 0, 1 ], [ 1, 0, 0, 0 ], [ 0, 0, 1, 1 ] ]\n",
    "    m, n = len( T ), len( T[0] )\n",
    "    \n",
    "    # weight initialization ( n, C )\n",
    "    weights = [ [ 0.2, 0.6, 0.5, 0.9 ], [ 0.8, 0.4, 0.7, 0.3 ] ]\n",
    "\n",
    "    # training\n",
    "    ob = SOM()\n",
    "    \n",
    "    epochs = 1\n",
    "    alpha = 0.5\n",
    "    \n",
    "    for i in range( epochs ) :\n",
    "        for j in range( m ) :\n",
    "            # training sample\n",
    "            sample = T[j]\n",
    "            print(\"Training Sample =\",sample)\n",
    "            # Compute winner vector\n",
    "            J = ob.winner( weights, sample)\n",
    "            # Update winning vector\n",
    "            weights = ob.update( weights, sample, J, alpha)\n",
    "            \n",
    "    # classify test sample\n",
    "    s = [ 0, 1, 1, 1 ]\n",
    "    J = ob.winner( weights, s )\n",
    "    print(\"\\nTESTING:\\nInput Sample :\",s)\n",
    "    print(\"PREDICTION:\\nSample T belongs to class : \", J)\n",
    "    print(\"Trained weights : \", weights)"
   ]
  },
  {
   "cell_type": "code",
   "execution_count": 4,
   "id": "e058bb1d",
   "metadata": {},
   "outputs": [
    {
     "name": "stdout",
     "output_type": "stream",
     "text": [
      "Training Sample = [1, 1, 0, 0]\n",
      "Euclidean distance from W1 =  1.8600000000000003\n",
      "Euclidean distance from W2 =  0.9799999999999999\n",
      "Updated Weights = [[0.2, 0.6, 0.5, 0.9], [0.9, 0.7, 0.35, 0.15]] \n",
      "\n",
      "Training Sample = [0, 0, 0, 1]\n",
      "Euclidean distance from W1 =  0.66\n",
      "Euclidean distance from W2 =  2.145\n",
      "Updated Weights = [[0.1, 0.3, 0.25, 0.95], [0.9, 0.7, 0.35, 0.15]] \n",
      "\n",
      "Training Sample = [1, 0, 0, 0]\n",
      "Euclidean distance from W1 =  1.865\n",
      "Euclidean distance from W2 =  0.6449999999999999\n",
      "Updated Weights = [[0.1, 0.3, 0.25, 0.95], [0.95, 0.35, 0.175, 0.075]] \n",
      "\n",
      "Training Sample = [0, 0, 1, 1]\n",
      "Euclidean distance from W1 =  0.665\n",
      "Euclidean distance from W2 =  2.5612500000000002\n",
      "Updated Weights = [[0.05, 0.15, 0.625, 0.975], [0.95, 0.35, 0.175, 0.075]] \n",
      "\n",
      "Euclidean distance from W1 =  0.8662499999999999\n",
      "Euclidean distance from W2 =  2.86125\n",
      "\n",
      "TESTING:\n",
      "Input Sample : [0, 1, 1, 1]\n",
      "PREDICTION:\n",
      "Sample T belongs to class :  0\n",
      "Trained weights :  [[0.05, 0.15, 0.625, 0.975], [0.95, 0.35, 0.175, 0.075]]\n"
     ]
    }
   ],
   "source": [
    "if __name__ == \"__main__\":\n",
    "    main()"
   ]
  },
  {
   "cell_type": "markdown",
   "id": "3a1f5da8",
   "metadata": {},
   "source": [
    "## IRIS flower classification"
   ]
  },
  {
   "cell_type": "code",
   "execution_count": 61,
   "id": "663a3ea8",
   "metadata": {},
   "outputs": [],
   "source": [
    "import numpy as np\n",
    "import matplotlib.pyplot as plt"
   ]
  },
  {
   "cell_type": "code",
   "execution_count": 62,
   "id": "fcb079c0",
   "metadata": {},
   "outputs": [],
   "source": [
    "def closest_node(data, t, map, m_rows, m_cols):\n",
    "    # (row,col) of map node closest to data[t]\n",
    "    result = (0,0)\n",
    "    small_dist = 1.0e20\n",
    "    for i in range(m_rows):\n",
    "        for j in range(m_cols):\n",
    "            ed = euc_dist(map[i][j], data[t])\n",
    "            if ed < small_dist:\n",
    "                small_dist = ed\n",
    "                result = (i, j)\n",
    "    return result"
   ]
  },
  {
   "cell_type": "code",
   "execution_count": 63,
   "id": "fedaf3d2",
   "metadata": {},
   "outputs": [],
   "source": [
    "def euc_dist(v1, v2):\n",
    "    return np.linalg.norm(v1 - v2) \n",
    "\n",
    "def manhattan_dist(r1, c1, r2, c2):\n",
    "    return np.abs(r1-r2) + np.abs(c1-c2)\n",
    "\n",
    "def most_common(lst, n):\n",
    "    # lst is a list of values 0 . . n\n",
    "    if len(lst) == 0: \n",
    "        return -1\n",
    "    counts = np.zeros(shape=n, dtype=int)\n",
    "    for i in range(len(lst)):\n",
    "        counts[lst[i]] += 1\n",
    "    return np.argmax(counts)"
   ]
  },
  {
   "cell_type": "code",
   "execution_count": 66,
   "id": "e265f4b7",
   "metadata": {},
   "outputs": [],
   "source": [
    "def main():\n",
    "    # 0. get started\n",
    "    np.random.seed(1)\n",
    "    Dim = 4\n",
    "    Rows = 30; Cols = 30\n",
    "    RangeMax = Rows + Cols\n",
    "    LearnMax = 0.5\n",
    "    StepsMax = 5000\n",
    "    \n",
    "    # 1. load data\n",
    "    print(\"\\nLoading Iris data into memory \\n\")\n",
    "    data_file = \"iris_data_012.txt\"\n",
    "    data_x = np.loadtxt(data_file, delimiter=\",\", usecols=range(0,4), dtype=np.float64)\n",
    "    data_y = np.loadtxt(data_file, delimiter=\",\", usecols=[4], dtype=int)\n",
    "    # option: normalize data  \n",
    "    \n",
    "    # 2. construct the SOM\n",
    "    print(\"Constructing a 30x30 SOM from the iris data\")\n",
    "    map = np.random.random_sample(size=(Rows,Cols,Dim))\n",
    "    for s in range(StepsMax):\n",
    "        if s % (StepsMax/10) == 0: \n",
    "            print(\"step = \", str(s))\n",
    "        pct_left = 1.0 - ((s * 1.0) / StepsMax)\n",
    "        curr_range = (int)(pct_left * RangeMax)\n",
    "        curr_rate = pct_left * LearnMax\n",
    "        \n",
    "        t = np.random.randint(len(data_x))\n",
    "        (bmu_row, bmu_col) = closest_node(data_x, t, map, Rows, Cols)\n",
    "        for i in range(Rows):\n",
    "            for j in range(Cols):\n",
    "                if manhattan_dist(bmu_row, bmu_col, i, j) < curr_range:\n",
    "                    map[i][j] = map[i][j] + curr_rate * (data_x[t] - map[i][j])\n",
    "    print(\"SOM construction complete \\n\")\n",
    "    \n",
    "    # 3. construct U-Matrix\n",
    "    print(\"Constructing U-Matrix from SOM\")\n",
    "    u_matrix = np.zeros(shape=(Rows,Cols), dtype=np.float64)\n",
    "    for i in range(Rows):\n",
    "        for j in range(Cols):\n",
    "            v = map[i][j]  # a vector \n",
    "            sum_dists = 0.0; ct = 0\n",
    "            if i-1 >= 0:    # above\n",
    "                sum_dists += euc_dist(v, map[i-1][j]); ct += 1\n",
    "            if i+1 <= Rows-1:   # below\n",
    "                sum_dists += euc_dist(v, map[i+1][j]); ct += 1\n",
    "            if j-1 >= 0:   # left\n",
    "                sum_dists += euc_dist(v, map[i][j-1]); ct += 1\n",
    "            if j+1 <= Cols-1:   # right\n",
    "                sum_dists += euc_dist(v, map[i][j+1]); ct += 1\n",
    "            u_matrix[i][j] = sum_dists / ct\n",
    "    print(\"U-Matrix constructed \\n\")\n",
    "    \n",
    "    # display U-Matrix\n",
    "    plt.imshow(u_matrix, cmap='gray')  # black = close = clusters\n",
    "    plt.show()\n",
    "    \n",
    "    # 4. because the data has labels, another possible visualization:\n",
    "    # associate each data label with a map node\n",
    "    print(\"Associating each data label to one map node \")\n",
    "    mapping = np.empty(shape=(Rows,Cols), dtype=object)\n",
    "    for i in range(Rows):\n",
    "        for j in range(Cols):\n",
    "            mapping[i][j] = []\n",
    "    \n",
    "    for t in range(len(data_x)):\n",
    "        (m_row, m_col) = closest_node(data_x, t, map, Rows, Cols)\n",
    "        mapping[m_row][m_col].append(data_y[t])\n",
    "        \n",
    "    label_map = np.zeros(shape=(Rows,Cols), dtype=int)\n",
    "    for i in range(Rows):\n",
    "        for j in range(Cols):\n",
    "            label_map[i][j] = most_common(mapping[i][j], 3)\n",
    "            \n",
    "    plt.imshow(label_map, cmap=plt.cm.get_cmap('terrain_r', 4))\n",
    "    plt.colorbar()\n",
    "    plt.show()"
   ]
  },
  {
   "cell_type": "code",
   "execution_count": 67,
   "id": "4e58212e",
   "metadata": {},
   "outputs": [
    {
     "name": "stdout",
     "output_type": "stream",
     "text": [
      "\n",
      "Loading Iris data into memory \n",
      "\n",
      "Constructing a 30x30 SOM from the iris data\n",
      "step =  0\n",
      "step =  500\n",
      "step =  1000\n",
      "step =  1500\n",
      "step =  2000\n",
      "step =  2500\n",
      "step =  3000\n",
      "step =  3500\n",
      "step =  4000\n",
      "step =  4500\n",
      "SOM construction complete \n",
      "\n",
      "Constructing U-Matrix from SOM\n",
      "U-Matrix constructed \n",
      "\n"
     ]
    },
    {
     "data": {
      "image/png": "[encoded data removed]",
      "text/plain": [
       "<Figure size 432x288 with 1 Axes>"
      ]
     },
     "metadata": {
      "needs_background": "light"
     },
     "output_type": "display_data"
    },
    {
     "name": "stdout",
     "output_type": "stream",
     "text": [
      "Associating each data label to one map node \n"
     ]
    },
    {
     "data": {
      "image/png": "[encoded data removed]",
      "text/plain": [
       "<Figure size 432x288 with 2 Axes>"
      ]
     },
     "metadata": {
      "needs_background": "light"
     },
     "output_type": "display_data"
    }
   ],
   "source": [
    "if __name__==\"__main__\":\n",
    "    main()"
   ]
  }
 ],
 "metadata": {
  "kernelspec": {
   "display_name": "Python 3",
   "language": "python",
   "name": "python3"
  },
  "language_info": {
   "codemirror_mode": {
    "name": "ipython",
    "version": 3
   },
   "file_extension": ".py",
   "mimetype": "text/x-python",
   "name": "python",
   "nbconvert_exporter": "python",
   "pygments_lexer": "ipython3",
   "version": "3.8.8"
  }
 },
 "nbformat": 4,
 "nbformat_minor": 5
}
