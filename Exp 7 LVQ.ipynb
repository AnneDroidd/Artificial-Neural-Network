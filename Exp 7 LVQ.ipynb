{
 "cells": [
  {
   "cell_type": "markdown",
   "id": "fc6c794a",
   "metadata": {},
   "source": [
    "Shubhasmita Roy\n",
    "# Exp 7 LVQ"
   ]
  },
  {
   "cell_type": "code",
   "execution_count": 1,
   "id": "fbd325b8",
   "metadata": {},
   "outputs": [],
   "source": [
    "import math"
   ]
  },
  {
   "cell_type": "code",
   "execution_count": 26,
   "id": "90bbada3",
   "metadata": {},
   "outputs": [],
   "source": [
    "class LVQ :\n",
    "    # Function here computes the winning vector by Euclidean distance\n",
    "    def winner( self, weights, sample ):\n",
    "        D0 = 0\n",
    "        D1 = 0\n",
    "        for i in range(len(sample)):\n",
    "            D0 = D0 + math.pow( ( sample[i] - weights[0][i] ), 2 )\n",
    "            D1 = D1 + math.pow( ( sample[i] - weights[1][i] ), 2 )\n",
    "        print(\"Euclidean distance from W1 = \",D0)\n",
    "        print(\"Euclidean distance from W2 = \",D1)\n",
    "        if D0 < D1:\n",
    "            return 0\n",
    "        else:\n",
    "            return 1\n",
    "        \n",
    "    # Function here updates the winning vector\n",
    "    def update( self, weights, sample, J, alpha):\n",
    "        for i in range(0,4):\n",
    "            weights[J][i] = weights[J][i] + alpha * ( sample[i] - weights[J][i] )\n",
    "        print(\"Updated Weights =\",weights,\"\\n\")"
   ]
  },
  {
   "cell_type": "code",
   "execution_count": 27,
   "id": "9bc7f25f",
   "metadata": {},
   "outputs": [],
   "source": [
    "# Driver code\n",
    "def main():\n",
    "    # Training Samples ( m, n ) with their class vector\n",
    "    X = [[1, 1, 0, 0], \n",
    "         [0, 0, 0, 1],\n",
    "         [0, 0, 1, 1],\n",
    "         [1, 0, 0, 0],\n",
    "         [0, 1, 1, 0]]\n",
    "    Y = [ 0, 1, 1, 0, 1 ]\n",
    "    m, n = len( X ), len( X[0] )\n",
    "    \n",
    "    # weight initialization ( n, c )\n",
    "    weights = []\n",
    "    weights.append(X.pop(0))\n",
    "    weights.append(X.pop(0))\n",
    "    Y.pop(0) # Removing corresponding class values\n",
    "    Y.pop(0)\n",
    "    print(\"Weight vector =\",weights)\n",
    "    print(\"Input Vectors =\",X)\n",
    "    \n",
    "    # Samples used in weight initialization will not use in training\n",
    "    m = m - 2\n",
    "    \n",
    "    # training\n",
    "    ob = LVQ()\n",
    "    epochs = 1\n",
    "    alpha = 0.1\n",
    "    for i in range( epochs ):\n",
    "        for j in range( m ):\n",
    "            # Sample selection\n",
    "            T = X[j]\n",
    "            # Compute winner\n",
    "            J = ob.winner(weights, T )\n",
    "            # Update weights\n",
    "            # If J and Y match, then update the weights of node as follows\n",
    "            if Y[j] == J:\n",
    "                ob.update(weights, T, J, alpha)\n",
    "            # If J and Y don't match, then update the weights of node as follows\n",
    "            else:\n",
    "                ob.update(weights, T, J, -1*alpha)\n",
    "            \n",
    "    # classify new input sample\n",
    "    T = [ 0, 0, 1, 0 ]\n",
    "    J = ob.winner( weights, T )\n",
    "    print(\"\\nTESTING:\\nInput Sample :\",T)\n",
    "    print( \"PREDICTION:\\nSample T belongs to class : \", J )\n",
    "    print( \"Trained weights : \", weights )"
   ]
  },
  {
   "cell_type": "code",
   "execution_count": 28,
   "id": "e12f8464",
   "metadata": {},
   "outputs": [
    {
     "name": "stdout",
     "output_type": "stream",
     "text": [
      "Weight vector = [[1, 1, 0, 0], [0, 0, 0, 1]]\n",
      "Input Vectors = [[0, 0, 1, 1], [1, 0, 0, 0], [0, 1, 1, 0]]\n",
      "Euclidean distance from W1 =  4.0\n",
      "Euclidean distance from W2 =  1.0\n",
      "Updated Weights = [[1, 1, 0, 0], [0.0, 0.0, 0.1, 1.0]] \n",
      "\n",
      "Euclidean distance from W1 =  1.0\n",
      "Euclidean distance from W2 =  2.01\n",
      "Updated Weights = [[1.0, 0.9, 0.0, 0.0], [0.0, 0.0, 0.1, 1.0]] \n",
      "\n",
      "Euclidean distance from W1 =  2.01\n",
      "Euclidean distance from W2 =  2.81\n",
      "Updated Weights = [[1.1, 0.89, -0.1, 0.0], [0.0, 0.0, 0.1, 1.0]] \n",
      "\n",
      "Euclidean distance from W1 =  3.2121000000000004\n",
      "Euclidean distance from W2 =  1.81\n",
      "\n",
      "TESTING:\n",
      "Input Sample : [0, 0, 1, 0]\n",
      "PREDICTION:\n",
      "Sample T belongs to class :  1\n",
      "Trained weights :  [[1.1, 0.89, -0.1, 0.0], [0.0, 0.0, 0.1, 1.0]]\n"
     ]
    }
   ],
   "source": [
    "if __name__ == \"__main__\":\n",
    "    main()"
   ]
  },
  {
   "cell_type": "markdown",
   "id": "a25e1587",
   "metadata": {},
   "source": [
    "## Iris dataset"
   ]
  },
  {
   "cell_type": "code",
   "execution_count": 54,
   "id": "4dc2284c",
   "metadata": {},
   "outputs": [
    {
     "data": {
      "text/html": [
       "<div>\n",
       "<style scoped>\n",
       "    .dataframe tbody tr th:only-of-type {\n",
       "        vertical-align: middle;\n",
       "    }\n",
       "\n",
       "    .dataframe tbody tr th {\n",
       "        vertical-align: top;\n",
       "    }\n",
       "\n",
       "    .dataframe thead th {\n",
       "        text-align: right;\n",
       "    }\n",
       "</style>\n",
       "<table border=\"1\" class=\"dataframe\">\n",
       "  <thead>\n",
       "    <tr style=\"text-align: right;\">\n",
       "      <th></th>\n",
       "      <th>sepal length (cm)</th>\n",
       "      <th>sepal width (cm)</th>\n",
       "      <th>petal length (cm)</th>\n",
       "      <th>petal width (cm)</th>\n",
       "    </tr>\n",
       "  </thead>\n",
       "  <tbody>\n",
       "    <tr>\n",
       "      <th>0</th>\n",
       "      <td>5.1</td>\n",
       "      <td>3.5</td>\n",
       "      <td>1.4</td>\n",
       "      <td>0.2</td>\n",
       "    </tr>\n",
       "    <tr>\n",
       "      <th>1</th>\n",
       "      <td>4.9</td>\n",
       "      <td>3.0</td>\n",
       "      <td>1.4</td>\n",
       "      <td>0.2</td>\n",
       "    </tr>\n",
       "    <tr>\n",
       "      <th>2</th>\n",
       "      <td>4.7</td>\n",
       "      <td>3.2</td>\n",
       "      <td>1.3</td>\n",
       "      <td>0.2</td>\n",
       "    </tr>\n",
       "    <tr>\n",
       "      <th>3</th>\n",
       "      <td>4.6</td>\n",
       "      <td>3.1</td>\n",
       "      <td>1.5</td>\n",
       "      <td>0.2</td>\n",
       "    </tr>\n",
       "    <tr>\n",
       "      <th>4</th>\n",
       "      <td>5.0</td>\n",
       "      <td>3.6</td>\n",
       "      <td>1.4</td>\n",
       "      <td>0.2</td>\n",
       "    </tr>\n",
       "    <tr>\n",
       "      <th>...</th>\n",
       "      <td>...</td>\n",
       "      <td>...</td>\n",
       "      <td>...</td>\n",
       "      <td>...</td>\n",
       "    </tr>\n",
       "    <tr>\n",
       "      <th>145</th>\n",
       "      <td>6.7</td>\n",
       "      <td>3.0</td>\n",
       "      <td>5.2</td>\n",
       "      <td>2.3</td>\n",
       "    </tr>\n",
       "    <tr>\n",
       "      <th>146</th>\n",
       "      <td>6.3</td>\n",
       "      <td>2.5</td>\n",
       "      <td>5.0</td>\n",
       "      <td>1.9</td>\n",
       "    </tr>\n",
       "    <tr>\n",
       "      <th>147</th>\n",
       "      <td>6.5</td>\n",
       "      <td>3.0</td>\n",
       "      <td>5.2</td>\n",
       "      <td>2.0</td>\n",
       "    </tr>\n",
       "    <tr>\n",
       "      <th>148</th>\n",
       "      <td>6.2</td>\n",
       "      <td>3.4</td>\n",
       "      <td>5.4</td>\n",
       "      <td>2.3</td>\n",
       "    </tr>\n",
       "    <tr>\n",
       "      <th>149</th>\n",
       "      <td>5.9</td>\n",
       "      <td>3.0</td>\n",
       "      <td>5.1</td>\n",
       "      <td>1.8</td>\n",
       "    </tr>\n",
       "  </tbody>\n",
       "</table>\n",
       "<p>150 rows × 4 columns</p>\n",
       "</div>"
      ],
      "text/plain": [
       "     sepal length (cm)  sepal width (cm)  petal length (cm)  petal width (cm)\n",
       "0                  5.1               3.5                1.4               0.2\n",
       "1                  4.9               3.0                1.4               0.2\n",
       "2                  4.7               3.2                1.3               0.2\n",
       "3                  4.6               3.1                1.5               0.2\n",
       "4                  5.0               3.6                1.4               0.2\n",
       "..                 ...               ...                ...               ...\n",
       "145                6.7               3.0                5.2               2.3\n",
       "146                6.3               2.5                5.0               1.9\n",
       "147                6.5               3.0                5.2               2.0\n",
       "148                6.2               3.4                5.4               2.3\n",
       "149                5.9               3.0                5.1               1.8\n",
       "\n",
       "[150 rows x 4 columns]"
      ]
     },
     "execution_count": 54,
     "metadata": {},
     "output_type": "execute_result"
    }
   ],
   "source": [
    "import pandas as pd\n",
    "from sklearn.datasets import load_iris\n",
    "iris=load_iris()\n",
    "df = pd.DataFrame(iris.data,columns=iris.feature_names)\n",
    "df"
   ]
  },
  {
   "cell_type": "code",
   "execution_count": 55,
   "id": "28279848",
   "metadata": {},
   "outputs": [
    {
     "data": {
      "text/plain": [
       "array(['setosa', 'versicolor', 'virginica'], dtype='<U10')"
      ]
     },
     "execution_count": 55,
     "metadata": {},
     "output_type": "execute_result"
    }
   ],
   "source": [
    "iris.target_names"
   ]
  },
  {
   "cell_type": "code",
   "execution_count": 56,
   "id": "8b7ff00a",
   "metadata": {},
   "outputs": [],
   "source": [
    "# splitting into train and test\n",
    "from sklearn.model_selection import train_test_split\n",
    "X_train, X_test, y_train, y_test = train_test_split(df, iris.target, test_size=0.2, stratify=iris.target)"
   ]
  },
  {
   "cell_type": "code",
   "execution_count": 57,
   "id": "a4e7275b",
   "metadata": {},
   "outputs": [
    {
     "data": {
      "text/plain": [
       "array([0, 1, 2, 1, 1, 2, 2, 0, 0, 1, 0, 1, 1, 1, 0, 2, 0, 0, 0, 2, 2, 2,\n",
       "       1, 1, 0, 2, 1, 2, 2, 0])"
      ]
     },
     "execution_count": 57,
     "metadata": {},
     "output_type": "execute_result"
    }
   ],
   "source": [
    "y_test"
   ]
  },
  {
   "cell_type": "code",
   "execution_count": 58,
   "id": "b8fbcc6e",
   "metadata": {},
   "outputs": [
    {
     "data": {
      "text/plain": [
       "array([0, 1, 0, 2, 1, 2, 0, 2, 0, 1, 0, 1, 1, 1, 1, 0, 2, 2, 1, 2, 2, 1,\n",
       "       2, 0, 1, 1, 0, 2, 2, 1, 2, 1, 0, 1, 2, 0, 2, 0, 0, 1, 2, 1, 1, 2,\n",
       "       0, 2, 0, 0, 0, 1, 2, 0, 2, 1, 0, 2, 0, 2, 0, 0, 2, 2, 1, 2, 1, 1,\n",
       "       2, 2, 2, 0, 2, 0, 2, 1, 2, 0, 1, 0, 0, 1, 0, 1, 2, 1, 2, 1, 0, 0,\n",
       "       0, 1, 0, 0, 2, 2, 2, 1, 2, 1, 1, 0, 1, 0, 2, 0, 1, 1, 0, 0, 0, 0,\n",
       "       2, 1, 1, 2, 0, 2, 1, 1, 2, 1])"
      ]
     },
     "execution_count": 58,
     "metadata": {},
     "output_type": "execute_result"
    }
   ],
   "source": [
    "y_train"
   ]
  },
  {
   "cell_type": "code",
   "execution_count": 59,
   "id": "8290ad59",
   "metadata": {},
   "outputs": [],
   "source": [
    "class LVQ :\n",
    "    # Function here computes the winning vector by Euclidean distance\n",
    "    def winner( self, weights, sample ):\n",
    "        D0 = 0\n",
    "        D1 = 0\n",
    "        D2 = 0\n",
    "        for i in range(len(sample)):\n",
    "            D0 = D0 + math.pow( ( sample[i] - weights[0][i] ), 2 )\n",
    "            D1 = D1 + math.pow( ( sample[i] - weights[1][i] ), 2 )\n",
    "            D2 = D2 + math.pow( ( sample[i] - weights[2][i] ), 2 )\n",
    "        #print(\"Euclidean distance from W1 = \",D0)\n",
    "        #print(\"Euclidean distance from W2 = \",D1)\n",
    "        #print(\"Euclidean distance from W3 = \",D2)\n",
    "        if D0 == min(D0,D1,D2):\n",
    "            return 0\n",
    "        elif D1 == min(D0,D1,D2):\n",
    "            return 1\n",
    "        else:\n",
    "            return 2\n",
    "        \n",
    "    # Function here updates the winning vector\n",
    "    def update( self, weights, sample, J, alpha):\n",
    "        for i in range(0,4):\n",
    "            weights[J][i] = weights[J][i] + alpha * ( sample[i] - weights[J][i] )\n",
    "        #print(\"Updated Weights =\",weights,\"\\n\")"
   ]
  },
  {
   "cell_type": "code",
   "execution_count": 60,
   "id": "9e7d00da",
   "metadata": {},
   "outputs": [],
   "source": [
    "# Driver code\n",
    "def main():\n",
    "    # Training Samples ( m, n ) with their class vector\n",
    "    X = X_train.values.tolist()\n",
    "    Y = y_train.tolist()\n",
    "    \n",
    "    m, n = len(X), len(X[0])\n",
    "    \n",
    "    # weight initialization ( n, c )\n",
    "    weights = []\n",
    "    weights.append(X.pop(0))\n",
    "    weights.append(X.pop(50))\n",
    "    weights.append(X.pop(100))\n",
    "    Y.pop(0)\n",
    "    Y.pop(50)\n",
    "    Y.pop(100)\n",
    "    #print(\"Weight vector =\",weights)\n",
    "    #print(\"Input Vectors =\",X)\n",
    "    \n",
    "    # Samples used in weight initialization will not use in training\n",
    "    m = m - 3\n",
    "    \n",
    "    # training\n",
    "    ob = LVQ()\n",
    "    epochs = 1000\n",
    "    alpha = 0.3\n",
    "    for i in range( epochs ):\n",
    "        for j in range( m ):\n",
    "            # Sample selection\n",
    "            T = X[j]\n",
    "            # Compute winner\n",
    "            J = ob.winner(weights, T )\n",
    "            # Update weights\n",
    "            # If J and Y match, then update the weights of node as follows\n",
    "            if Y[j] == J:\n",
    "                ob.update(weights, T, J, alpha)\n",
    "            # If J and Y don't match, then update the weights of node as follows\n",
    "            else:\n",
    "                ob.update(weights, T, J, -1*alpha)\n",
    "            \n",
    "    # classify new input sample\n",
    "    T = [5.0, 3.6, 1.4, 0.2]\n",
    "    J = ob.winner( weights, T )\n",
    "    print(\"TESTING:\\nInput Sample :\",T)\n",
    "    print(\"Actual class:\",0)\n",
    "    print( \"PREDICTION:\\nSample T belongs to class : \", J )\n",
    "    print( \"Trained weights : \", weights )\n",
    "    \n",
    "    # classify new input sample\n",
    "    T = [5.6,3.0,4.5,1.5]\n",
    "    J = ob.winner( weights, T )\n",
    "    print(\"\\nTESTING:\\nInput Sample :\",T)\n",
    "    print(\"Actual class:\",1)\n",
    "    print( \"PREDICTION:\\nSample T belongs to class : \", J )\n",
    "    print( \"Trained weights : \", weights )\n",
    "    \n",
    "    # classify new input sample\n",
    "    T = [5.9,3.0,5.1,1.8]\n",
    "    J = ob.winner( weights, T )\n",
    "    print(\"\\nTESTING:\\nInput Sample :\",T)\n",
    "    print(\"Actual class:\",2)\n",
    "    print( \"PREDICTION:\\nSample T belongs to class : \", J )\n",
    "    print( \"Trained weights : \", weights )\n",
    "    \n",
    "    # classify new input sample\n",
    "    T = [6.3,2.5,4.9,1.5]\n",
    "    J = ob.winner( weights, T )\n",
    "    print(\"\\nTESTING:\\nInput Sample :\",T)\n",
    "    print(\"Actual class:\",1)\n",
    "    print( \"PREDICTION:\\nSample T belongs to class : \", J )\n",
    "    print( \"Trained weights : \", weights )\n",
    "    \n",
    "    # Plotting output:\n",
    "    X_t = X_test.values.tolist()\n",
    "    Y_t = y_test.tolist()\n",
    "    classes=[[0,0,0],[0,0,0],[0,0,0]]\n",
    "    for j in range(len(X_t)):\n",
    "        # Sample selection\n",
    "        T = X_t[j]\n",
    "        # Compute winner\n",
    "        J = ob.winner(weights, T )\n",
    "        if J==0 and Y_t[j]==0:\n",
    "            classes[0][0]+=1\n",
    "        elif J==0 and Y_t[j]==1:\n",
    "            classes[1][0]+=1\n",
    "        elif J==0 and Y_t[j]==2:\n",
    "            classes[2][0]+=1\n",
    "        elif J==1 and Y_t[j]==0:\n",
    "            classes[0][1]+=1\n",
    "        elif J==1 and Y_t[j]==1:\n",
    "            classes[1][1]+=1\n",
    "        elif J==1 and Y_t[j]==2:\n",
    "            classes[2][1]+=1\n",
    "        elif J==2 and Y_t[j]==0:\n",
    "            classes[0][2]+=1\n",
    "        elif J==2 and Y_t[j]==1:\n",
    "            classes[1][2]+=1\n",
    "        elif J==2 and Y_t[j]==2:\n",
    "            classes[2][2]+=1\n",
    "    print(classes)\n",
    "    \n",
    "    # Plotting\n",
    "    import seaborn as sns\n",
    "    import matplotlib.pyplot as plt     \n",
    "    cmap = sns.light_palette(\"#3bbee3\", as_cmap=True)\n",
    "    \n",
    "    ax= plt.subplot()\n",
    "    sns.heatmap(classes, annot=True, cmap=cmap, ax = ax); #annot=True to annotate cells\n",
    "    # labels, title and ticks\n",
    "    ax.set_xlabel('Predicted labels');ax.set_ylabel('True labels'); \n",
    "    ax.set_title('Confusion Matrix for Iris'); \n",
    "    ax.xaxis.set_ticklabels(['setosa', 'versicolor', 'virginica']); ax.yaxis.set_ticklabels(['setosa', 'versicolor', 'virginica']);"
   ]
  },
  {
   "cell_type": "code",
   "execution_count": 61,
   "id": "635a1ef8",
   "metadata": {},
   "outputs": [
    {
     "name": "stdout",
     "output_type": "stream",
     "text": [
      "TESTING:\n",
      "Input Sample : [5.0, 3.6, 1.4, 0.2]\n",
      "Actual class: 0\n",
      "PREDICTION:\n",
      "Sample T belongs to class :  0\n",
      "Trained weights :  [[4.836537643526188, 3.317238119555861, 1.452462999978401, 0.20669987844449864], [6.231301125119039, 2.9721591714115263, 4.359524543885002, 1.376390029450927], [6.27070406796183, 3.01255248585626, 5.562911820843039, 2.2721261854498844]]\n",
      "\n",
      "TESTING:\n",
      "Input Sample : [5.6, 3.0, 4.5, 1.5]\n",
      "Actual class: 1\n",
      "PREDICTION:\n",
      "Sample T belongs to class :  1\n",
      "Trained weights :  [[4.836537643526188, 3.317238119555861, 1.452462999978401, 0.20669987844449864], [6.231301125119039, 2.9721591714115263, 4.359524543885002, 1.376390029450927], [6.27070406796183, 3.01255248585626, 5.562911820843039, 2.2721261854498844]]\n",
      "\n",
      "TESTING:\n",
      "Input Sample : [5.9, 3.0, 5.1, 1.8]\n",
      "Actual class: 2\n",
      "PREDICTION:\n",
      "Sample T belongs to class :  2\n",
      "Trained weights :  [[4.836537643526188, 3.317238119555861, 1.452462999978401, 0.20669987844449864], [6.231301125119039, 2.9721591714115263, 4.359524543885002, 1.376390029450927], [6.27070406796183, 3.01255248585626, 5.562911820843039, 2.2721261854498844]]\n",
      "\n",
      "TESTING:\n",
      "Input Sample : [6.3, 2.5, 4.9, 1.5]\n",
      "Actual class: 1\n",
      "PREDICTION:\n",
      "Sample T belongs to class :  1\n",
      "Trained weights :  [[4.836537643526188, 3.317238119555861, 1.452462999978401, 0.20669987844449864], [6.231301125119039, 2.9721591714115263, 4.359524543885002, 1.376390029450927], [6.27070406796183, 3.01255248585626, 5.562911820843039, 2.2721261854498844]]\n",
      "[[10, 0, 0], [0, 10, 0], [0, 2, 8]]\n"
     ]
    },
    {
     "data": {
      "image/png": "[encoded data removed]",
      "text/plain": [
       "<Figure size 432x288 with 2 Axes>"
      ]
     },
     "metadata": {
      "needs_background": "light"
     },
     "output_type": "display_data"
    }
   ],
   "source": [
    "if __name__ == \"__main__\":\n",
    "    main()"
   ]
  },
  {
   "cell_type": "code",
   "execution_count": null,
   "id": "86b8fe92",
   "metadata": {},
   "outputs": [],
   "source": []
  }
 ],
 "metadata": {
  "kernelspec": {
   "display_name": "Python 3",
   "language": "python",
   "name": "python3"
  },
  "language_info": {
   "codemirror_mode": {
    "name": "ipython",
    "version": 3
   },
   "file_extension": ".py",
   "mimetype": "text/x-python",
   "name": "python",
   "nbconvert_exporter": "python",
   "pygments_lexer": "ipython3",
   "version": "3.8.8"
  }
 },
 "nbformat": 4,
 "nbformat_minor": 5
}
