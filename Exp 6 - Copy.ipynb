{
 "cells": [
  {
   "cell_type": "markdown",
   "id": "e8536143",
   "metadata": {},
   "source": [
    "# Exp 6: SOM "
   ]
  },
  {
   "cell_type": "code",
   "execution_count": 1,
   "id": "79c414e0",
   "metadata": {},
   "outputs": [],
   "source": [
    "import math"
   ]
  },
  {
   "cell_type": "code",
   "execution_count": 2,
   "id": "c7a5e34d",
   "metadata": {},
   "outputs": [],
   "source": [
    "class SOM :\n",
    "    # Function here computes the winning vector\n",
    "    # by Euclidean distance\n",
    "    def winner( self, weights, sample ):\n",
    "        D0 = 0\n",
    "        D1 = 0\n",
    "        for i in range( len( sample ) ) :\n",
    "            D0 = D0 + math.pow( ( sample[i] - weights[0][i] ), 2 )\n",
    "            D1 = D1 + math.pow( ( sample[i] - weights[1][i] ), 2 )\n",
    "        print(\"Euclidean distance from W1 = \",D0)\n",
    "        print(\"Euclidean distance from W2 = \",D1)\n",
    "        if D0 < D1 :\n",
    "            return 0\n",
    "        else :\n",
    "            return 1\n",
    "\n",
    "    # Function here updates the winning vector\n",
    "    def update( self, weights, sample, J, alpha ) :\n",
    "        for i in range(0,4):\n",
    "            weights[J][i] = weights[J][i] + alpha * ( sample[i] - weights[J][i] )\n",
    "        print(\"Updated Weights =\",weights,\"\\n\")\n",
    "        return weights"
   ]
  },
  {
   "cell_type": "code",
   "execution_count": 3,
   "id": "5e2fd1a9",
   "metadata": {},
   "outputs": [],
   "source": [
    "# Driver code\n",
    "def main() :\n",
    "    # Training Examples ( m, n )\n",
    "    T = [ [ 1, 1, 0, 0 ], [ 0, 0, 0, 1 ], [ 1, 0, 0, 0 ], [ 0, 0, 1, 1 ] ]\n",
    "    m, n = len( T ), len( T[0] )\n",
    "    \n",
    "    # weight initialization ( n, C )\n",
    "    weights = [ [ 0.2, 0.6, 0.5, 0.9 ], [ 0.8, 0.4, 0.7, 0.3 ] ]\n",
    "\n",
    "    # training\n",
    "    ob = SOM()\n",
    "    \n",
    "    epochs = 1\n",
    "    alpha = 0.5\n",
    "    \n",
    "    for i in range( epochs ) :\n",
    "        for j in range( m ) :\n",
    "            # training sample\n",
    "            sample = T[j]\n",
    "            print(\"Training Sample =\",sample)\n",
    "            # Compute winner vector\n",
    "            J = ob.winner( weights, sample)\n",
    "            # Update winning vector\n",
    "            weights = ob.update( weights, sample, J, alpha)\n",
    "            \n",
    "    # classify test sample\n",
    "    s = [ 0, 1, 1, 1 ]\n",
    "    J = ob.winner( weights, s )\n",
    "    print(\"\\nTESTING:\\nInput Sample :\",s)\n",
    "    print(\"PREDICTION:\\nSample T belongs to class : \", J)\n",
    "    print(\"Trained weights : \", weights)"
   ]
  },
  {
   "cell_type": "code",
   "execution_count": 4,
   "id": "e058bb1d",
   "metadata": {},
   "outputs": [
    {
     "name": "stdout",
     "output_type": "stream",
     "text": [
      "Training Sample = [1, 1, 0, 0]\n",
      "Euclidean distance from W1 =  1.8600000000000003\n",
      "Euclidean distance from W2 =  0.9799999999999999\n",
      "Updated Weights = [[0.2, 0.6, 0.5, 0.9], [0.9, 0.7, 0.35, 0.15]] \n",
      "\n",
      "Training Sample = [0, 0, 0, 1]\n",
      "Euclidean distance from W1 =  0.66\n",
      "Euclidean distance from W2 =  2.145\n",
      "Updated Weights = [[0.1, 0.3, 0.25, 0.95], [0.9, 0.7, 0.35, 0.15]] \n",
      "\n",
      "Training Sample = [1, 0, 0, 0]\n",
      "Euclidean distance from W1 =  1.865\n",
      "Euclidean distance from W2 =  0.6449999999999999\n",
      "Updated Weights = [[0.1, 0.3, 0.25, 0.95], [0.95, 0.35, 0.175, 0.075]] \n",
      "\n",
      "Training Sample = [0, 0, 1, 1]\n",
      "Euclidean distance from W1 =  0.665\n",
      "Euclidean distance from W2 =  2.5612500000000002\n",
      "Updated Weights = [[0.05, 0.15, 0.625, 0.975], [0.95, 0.35, 0.175, 0.075]] \n",
      "\n",
      "Euclidean distance from W1 =  0.8662499999999999\n",
      "Euclidean distance from W2 =  2.86125\n",
      "\n",
      "TESTING:\n",
      "Input Sample : [0, 1, 1, 1]\n",
      "PREDICTION:\n",
      "Sample T belongs to class :  0\n",
      "Trained weights :  [[0.05, 0.15, 0.625, 0.975], [0.95, 0.35, 0.175, 0.075]]\n"
     ]
    }
   ],
   "source": [
    "if __name__ == \"__main__\":\n",
    "    main()"
   ]
  }
 ],
 "metadata": {
  "kernelspec": {
   "display_name": "Python 3",
   "language": "python",
   "name": "python3"
  },
  "language_info": {
   "codemirror_mode": {
    "name": "ipython",
    "version": 3
   },
   "file_extension": ".py",
   "mimetype": "text/x-python",
   "name": "python",
   "nbconvert_exporter": "python",
   "pygments_lexer": "ipython3",
   "version": "3.8.8"
  }
 },
 "nbformat": 4,
 "nbformat_minor": 5
}
