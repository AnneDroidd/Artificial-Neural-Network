{
 "cells": [
  {
   "cell_type": "markdown",
   "id": "f9b24cc4",
   "metadata": {},
   "source": [
    "Shubhasmita Roy"
   ]
  },
  {
   "cell_type": "markdown",
   "id": "d7e6080f",
   "metadata": {},
   "source": [
    "# Exp 2: Linear regressor with a Single Neuron Model"
   ]
  },
  {
   "cell_type": "markdown",
   "id": "a541d038",
   "metadata": {},
   "source": [
    "#### Importing libraries"
   ]
  },
  {
   "cell_type": "code",
   "execution_count": 1,
   "id": "33b8fc7a",
   "metadata": {},
   "outputs": [],
   "source": [
    "import numpy as np\n",
    "from numpy import array\n",
    "import pandas as pd\n",
    "import random\n",
    "import matplotlib.pyplot as plt"
   ]
  },
  {
   "cell_type": "markdown",
   "id": "04671ada",
   "metadata": {},
   "source": [
    "#### Reading data from csv file"
   ]
  },
  {
   "cell_type": "code",
   "execution_count": 2,
   "id": "c54ee68b",
   "metadata": {},
   "outputs": [
    {
     "data": {
      "text/html": [
       "<div>\n",
       "<style scoped>\n",
       "    .dataframe tbody tr th:only-of-type {\n",
       "        vertical-align: middle;\n",
       "    }\n",
       "\n",
       "    .dataframe tbody tr th {\n",
       "        vertical-align: top;\n",
       "    }\n",
       "\n",
       "    .dataframe thead th {\n",
       "        text-align: right;\n",
       "    }\n",
       "</style>\n",
       "<table border=\"1\" class=\"dataframe\">\n",
       "  <thead>\n",
       "    <tr style=\"text-align: right;\">\n",
       "      <th></th>\n",
       "      <th>x</th>\n",
       "      <th>y</th>\n",
       "    </tr>\n",
       "  </thead>\n",
       "  <tbody>\n",
       "    <tr>\n",
       "      <th>0</th>\n",
       "      <td>24</td>\n",
       "      <td>21.549452</td>\n",
       "    </tr>\n",
       "    <tr>\n",
       "      <th>1</th>\n",
       "      <td>50</td>\n",
       "      <td>47.464463</td>\n",
       "    </tr>\n",
       "    <tr>\n",
       "      <th>2</th>\n",
       "      <td>15</td>\n",
       "      <td>17.218656</td>\n",
       "    </tr>\n",
       "    <tr>\n",
       "      <th>3</th>\n",
       "      <td>38</td>\n",
       "      <td>36.586398</td>\n",
       "    </tr>\n",
       "    <tr>\n",
       "      <th>4</th>\n",
       "      <td>87</td>\n",
       "      <td>87.288984</td>\n",
       "    </tr>\n",
       "  </tbody>\n",
       "</table>\n",
       "</div>"
      ],
      "text/plain": [
       "    x          y\n",
       "0  24  21.549452\n",
       "1  50  47.464463\n",
       "2  15  17.218656\n",
       "3  38  36.586398\n",
       "4  87  87.288984"
      ]
     },
     "execution_count": 2,
     "metadata": {},
     "output_type": "execute_result"
    }
   ],
   "source": [
    "data = pd.read_csv('train.csv') # from Kaggle dataset\n",
    "data.head()"
   ]
  },
  {
   "cell_type": "markdown",
   "id": "2704a8a2",
   "metadata": {},
   "source": [
    "#### Plotting data"
   ]
  },
  {
   "cell_type": "code",
   "execution_count": 3,
   "id": "37ccc12f",
   "metadata": {},
   "outputs": [
    {
     "data": {
      "text/plain": [
       "Text(0, 0.5, 'Y')"
      ]
     },
     "execution_count": 3,
     "metadata": {},
     "output_type": "execute_result"
    },
    {
     "data": {
      "image/png": "[encoded data removed]",
      "text/plain": [
       "<Figure size 432x288 with 1 Axes>"
      ]
     },
     "metadata": {
      "needs_background": "light"
     },
     "output_type": "display_data"
    }
   ],
   "source": [
    "plt.scatter(data['x'],data['y'])\n",
    "plt.xlabel('X')\n",
    "plt.ylabel('Y')"
   ]
  },
  {
   "cell_type": "markdown",
   "id": "3c7281e5",
   "metadata": {},
   "source": [
    "#### Extracting X and Y values from dataset"
   ]
  },
  {
   "cell_type": "code",
   "execution_count": 4,
   "id": "22de0c03",
   "metadata": {},
   "outputs": [
    {
     "data": {
      "text/plain": [
       "(699,)"
      ]
     },
     "execution_count": 4,
     "metadata": {},
     "output_type": "execute_result"
    }
   ],
   "source": [
    "X = data.iloc[:,0]\n",
    "Y = data.iloc[:,1]\n",
    "X.shape"
   ]
  },
  {
   "cell_type": "markdown",
   "id": "23307422",
   "metadata": {},
   "source": [
    "#### Defining variables"
   ]
  },
  {
   "cell_type": "code",
   "execution_count": 5,
   "id": "b7d1a89d",
   "metadata": {},
   "outputs": [],
   "source": [
    "x = 0\n",
    "у = 0\n",
    "y_pred = 0\n",
    "error = 0\n",
    "w_new = 0\n",
    "b_new = 0"
   ]
  },
  {
   "cell_type": "code",
   "execution_count": 6,
   "id": "0c5f993f",
   "metadata": {},
   "outputs": [],
   "source": [
    "weights = []\n",
    "bias = []\n",
    "eta = 0.001\n",
    "epochs = 1000\n",
    "# print (X)\n",
    "# print (Y)"
   ]
  },
  {
   "cell_type": "code",
   "execution_count": 21,
   "id": "1b1bb08c",
   "metadata": {},
   "outputs": [
    {
     "name": "stdout",
     "output_type": "stream",
     "text": [
      "INITIAL WEIGHT =  2\n",
      "INITIAL BIAS= 6\n",
      "INITIAL MSE =  3989.8833942535966\n"
     ]
    },
    {
     "data": {
      "image/png": "[encoded data removed]",
      "text/plain": [
       "<Figure size 432x288 with 1 Axes>"
      ]
     },
     "metadata": {
      "needs_background": "light"
     },
     "output_type": "display_data"
    }
   ],
   "source": [
    "# Initial Regression line\n",
    "w_initial= 2\n",
    "b_initial = 6\n",
    "Y_PRED = w_initial*X + b_initial\n",
    "MSE = np.square (np.subtract (Y,Y_PRED)).mean()\n",
    "print(\"INITIAL WEIGHT = \",w_initial)\n",
    "print(\"INITIAL BIAS=\",b_initial)\n",
    "print(\"INITIAL MSE = \",MSE)\n",
    "plt.scatter (X, Y, label=\"ACTUAL DATA\")\n",
    "plt.plot(X,Y_PRED, color='r', label=\"REGRESSION LINE\")\n",
    "plt.title(\"INITIAL REGRESSION LINE COMPARED TO DATA\")\n",
    "plt.xlabel(\"x\")\n",
    "plt.ylabel(\"Y\")\n",
    "plt.show()"
   ]
  },
  {
   "cell_type": "markdown",
   "id": "710963ee",
   "metadata": {},
   "source": [
    "####  Performing Linear Regression"
   ]
  },
  {
   "cell_type": "code",
   "execution_count": 10,
   "id": "8a950d44",
   "metadata": {},
   "outputs": [],
   "source": [
    "for i in range(0,100):\n",
    "    x = X[i]\n",
    "    y = Y[i]\n",
    "    w = 0\n",
    "    b = 0\n",
    "    for i in range(epochs):\n",
    "        y_pred = x*w + b\n",
    "        error = y - y_pred\n",
    "        w_new = w + eta*error*x\n",
    "        b_new = b + eta*error\n",
    "        w = w_new\n",
    "        b = b_new\n",
    "        if w<0.01:\n",
    "            w = 0\n",
    "            b = 0\n",
    "            error = 0\n",
    "            break\n",
    "        weights.append(w_new)\n",
    "        bias.append(b_new)"
   ]
  },
  {
   "cell_type": "code",
   "execution_count": 11,
   "id": "cca41439",
   "metadata": {},
   "outputs": [
    {
     "name": "stdout",
     "output_type": "stream",
     "text": [
      "FINAL WEIGHT =  1.0096054472010512\n",
      "FINAL BIAS= 0.04625293532062536\n",
      "FINAL MSE =  8.296118753536776\n"
     ]
    },
    {
     "data": {
      "image/png": "[encoded data removed]",
      "text/plain": [
       "<Figure size 432x288 with 1 Axes>"
      ]
     },
     "metadata": {
      "needs_background": "light"
     },
     "output_type": "display_data"
    }
   ],
   "source": [
    "w_final= np.median(weights)\n",
    "b_final = np.median(bias)\n",
    "Y_PRED = w_final*X + b_final\n",
    "MSE = np.square (np.subtract (Y,Y_PRED)).mean()\n",
    "print(\"FINAL WEIGHT = \",w_final)\n",
    "print(\"FINAL BIAS=\",b_final)\n",
    "print(\"FINAL MSE = \",MSE)\n",
    "plt.scatter (X, Y, label=\"ACTUAL DATA\")\n",
    "plt.plot(X,Y_PRED, color='r', label=\"REGRESSION LINE\")\n",
    "plt.title(\"LINEAR REGRESSION USING SLP\")\n",
    "plt.xlabel(\"x\")\n",
    "plt.ylabel(\"Y\")\n",
    "plt.show()"
   ]
  },
  {
   "cell_type": "markdown",
   "id": "d416d397",
   "metadata": {},
   "source": [
    "# Testing using 'test' dataset"
   ]
  },
  {
   "cell_type": "code",
   "execution_count": 12,
   "id": "e8d652de",
   "metadata": {},
   "outputs": [
    {
     "data": {
      "text/html": [
       "<div>\n",
       "<style scoped>\n",
       "    .dataframe tbody tr th:only-of-type {\n",
       "        vertical-align: middle;\n",
       "    }\n",
       "\n",
       "    .dataframe tbody tr th {\n",
       "        vertical-align: top;\n",
       "    }\n",
       "\n",
       "    .dataframe thead th {\n",
       "        text-align: right;\n",
       "    }\n",
       "</style>\n",
       "<table border=\"1\" class=\"dataframe\">\n",
       "  <thead>\n",
       "    <tr style=\"text-align: right;\">\n",
       "      <th></th>\n",
       "      <th>x</th>\n",
       "      <th>y</th>\n",
       "    </tr>\n",
       "  </thead>\n",
       "  <tbody>\n",
       "    <tr>\n",
       "      <th>0</th>\n",
       "      <td>77</td>\n",
       "      <td>79.775152</td>\n",
       "    </tr>\n",
       "    <tr>\n",
       "      <th>1</th>\n",
       "      <td>21</td>\n",
       "      <td>23.177279</td>\n",
       "    </tr>\n",
       "    <tr>\n",
       "      <th>2</th>\n",
       "      <td>22</td>\n",
       "      <td>25.609262</td>\n",
       "    </tr>\n",
       "    <tr>\n",
       "      <th>3</th>\n",
       "      <td>20</td>\n",
       "      <td>17.857388</td>\n",
       "    </tr>\n",
       "    <tr>\n",
       "      <th>4</th>\n",
       "      <td>36</td>\n",
       "      <td>41.849864</td>\n",
       "    </tr>\n",
       "  </tbody>\n",
       "</table>\n",
       "</div>"
      ],
      "text/plain": [
       "    x          y\n",
       "0  77  79.775152\n",
       "1  21  23.177279\n",
       "2  22  25.609262\n",
       "3  20  17.857388\n",
       "4  36  41.849864"
      ]
     },
     "execution_count": 12,
     "metadata": {},
     "output_type": "execute_result"
    }
   ],
   "source": [
    "test_data = pd.read_csv('test.csv')\n",
    "test_data.head()"
   ]
  },
  {
   "cell_type": "code",
   "execution_count": 13,
   "id": "0180c8f0",
   "metadata": {},
   "outputs": [
    {
     "name": "stdout",
     "output_type": "stream",
     "text": [
      "Predicted value is :  77.78587236980157\n",
      "Actual value is :  79.77515201\n"
     ]
    }
   ],
   "source": [
    "x_test = test_data['x'][0]\n",
    "y_test = test_data['y'][0]\n",
    "y_pred_test = w_final*x_test + b_final\n",
    "print('Predicted value is : ',y_pred_test)\n",
    "print('Actual value is : ',y_test)"
   ]
  },
  {
   "cell_type": "code",
   "execution_count": 14,
   "id": "921cd73c",
   "metadata": {},
   "outputs": [
    {
     "name": "stdout",
     "output_type": "stream",
     "text": [
      "Predicted value is :  21.247967326542703\n",
      "Actual value is :  23.17727887\n"
     ]
    }
   ],
   "source": [
    "x_test = test_data['x'][1]\n",
    "y_test = test_data['y'][1]\n",
    "y_pred_test = w_final*x_test + b_final\n",
    "print('Predicted value is : ',y_pred_test)\n",
    "print('Actual value is : ',y_test)"
   ]
  },
  {
   "cell_type": "markdown",
   "id": "0ac4af70",
   "metadata": {},
   "source": [
    "#### User input"
   ]
  },
  {
   "cell_type": "code",
   "execution_count": 15,
   "id": "f569d28a",
   "metadata": {},
   "outputs": [
    {
     "name": "stdout",
     "output_type": "stream",
     "text": [
      "Enter an X value to get corresponding Y value: 22\n",
      "Actual Y value is: 25.609\n",
      "Predicted value is :  22.257572773743753\n",
      "Actual value is :  25.609\n"
     ]
    }
   ],
   "source": [
    "x_test = float(input(\"Enter an X value to get corresponding Y value: \"))\n",
    "y_test = float(input(\"Actual Y value is: \"))\n",
    "y_pred_test = w_final*x_test + b_final\n",
    "print('Predicted value is : ',y_pred_test)\n",
    "print('Actual value is : ',y_test)"
   ]
  },
  {
   "cell_type": "markdown",
   "id": "9b0b08f1",
   "metadata": {},
   "source": [
    "# Deviation of predicted Y value vs Actual Y value"
   ]
  },
  {
   "cell_type": "code",
   "execution_count": 16,
   "id": "671a3cf9",
   "metadata": {},
   "outputs": [],
   "source": [
    "X_test = test_data['x']\n",
    "Y_test = test_data['y']\n",
    "Y_pred_test = w_final*X_test + b_final\n",
    "# print('Predicted value is : ',y_pred_test)\n",
    "# print('Actual value is : ',y_test)"
   ]
  },
  {
   "cell_type": "code",
   "execution_count": 20,
   "id": "9ecda68e",
   "metadata": {},
   "outputs": [
    {
     "data": {
      "text/plain": [
       "Text(0, 0.5, 'Actual Y value')"
      ]
     },
     "execution_count": 20,
     "metadata": {},
     "output_type": "execute_result"
    },
    {
     "data": {
      "image/png": "[encoded data removed]",
      "text/plain": [
       "<Figure size 432x288 with 1 Axes>"
      ]
     },
     "metadata": {
      "needs_background": "light"
     },
     "output_type": "display_data"
    }
   ],
   "source": [
    "plt.scatter(Y_pred_test, Y_test)\n",
    "plt.title(\"Predicted Y value vs Actual Y value\")\n",
    "plt.xlabel(\"Predicted Y value\")\n",
    "plt.ylabel(\"Actual Y value\")"
   ]
  },
  {
   "cell_type": "code",
   "execution_count": 19,
   "id": "cbe761ea",
   "metadata": {},
   "outputs": [
    {
     "name": "stdout",
     "output_type": "stream",
     "text": [
      "Error= 9.253767109039577\n"
     ]
    }
   ],
   "source": [
    "MSE = np.square (np.subtract (Y_test,Y_pred_test)).mean()\n",
    "print(\"Error=\",MSE)"
   ]
  },
  {
   "cell_type": "code",
   "execution_count": null,
   "id": "3f27b341",
   "metadata": {},
   "outputs": [],
   "source": []
  }
 ],
 "metadata": {
  "kernelspec": {
   "display_name": "Python 3",
   "language": "python",
   "name": "python3"
  },
  "language_info": {
   "codemirror_mode": {
    "name": "ipython",
    "version": 3
   },
   "file_extension": ".py",
   "mimetype": "text/x-python",
   "name": "python",
   "nbconvert_exporter": "python",
   "pygments_lexer": "ipython3",
   "version": "3.8.8"
  }
 },
 "nbformat": 4,
 "nbformat_minor": 5
}
